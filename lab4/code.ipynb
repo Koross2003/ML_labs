{
 "cells": [
  {
   "cell_type": "markdown",
   "metadata": {},
   "source": [
    "## Lab4 朴素贝叶斯分类器\n",
    "\n",
    "- 姓名: 于洋淼\n",
    "- 学号: 2113644\n",
    "- 专业: 物联网工程"
   ]
  },
  {
   "cell_type": "code",
   "execution_count": 1,
   "metadata": {},
   "outputs": [],
   "source": [
    "import numpy as np  \n",
    "import pandas as pd\n",
    "import matplotlib.pyplot as plt"
   ]
  },
  {
   "cell_type": "markdown",
   "metadata": {},
   "source": [
    "## 初级要求"
   ]
  },
  {
   "cell_type": "markdown",
   "metadata": {},
   "source": [
    "### 分层采样分割数据集"
   ]
  },
  {
   "cell_type": "code",
   "execution_count": 2,
   "metadata": {},
   "outputs": [],
   "source": [
    "def stratified_shuffle_split(X, y, test_size=0.2, random_state=None):\n",
    "    \"\"\"\n",
    "    分层采样，将数据集 X 和标签 y 按照类别比例划分为训练集和测试集。\n",
    "    :param X: 特征矩阵，形状为 (n_samples, n_features)\n",
    "    :param y: 标签数组，形状为 (n_samples,)\n",
    "    :param test_size: 测试集占比，默认为 0.2\n",
    "    :param random_state: 随机种子，默认为 None\n",
    "    :return: X_train, X_test, y_train, y_test\n",
    "    \"\"\"\n",
    "    # 获取类别数量和每个类别的索引\n",
    "    unique, counts = np.unique(y, return_counts=True)\n",
    "    indices = [np.where(y == label)[0] for label in unique]\n",
    "    \n",
    "    # 计算每个类别在测试集中的样本数量\n",
    "    test_counts = np.ceil(counts * test_size).astype(int)\n",
    "    \n",
    "    # 初始化训练集和测试集的索引\n",
    "    train_indices = []\n",
    "    test_indices = []\n",
    "    \n",
    "    # 对每个类别进行分层采样\n",
    "    for i, index in enumerate(indices):\n",
    "        # 打乱索引\n",
    "        np.random.seed(random_state)\n",
    "        np.random.shuffle(index)\n",
    "        \n",
    "        # 划分训练集和测试集\n",
    "        test_index = index[:test_counts[i]]\n",
    "        train_index = index[test_counts[i]:]\n",
    "        \n",
    "        # 将索引添加到训练集和测试集中\n",
    "        train_indices.append(train_index)\n",
    "        test_indices.append(test_index)\n",
    "    \n",
    "    # 将训练集和测试集的索引合并\n",
    "    train_indices = np.concatenate(train_indices)\n",
    "    test_indices = np.concatenate(test_indices)\n",
    "    \n",
    "    # 根据索引获取训练集和测试集\n",
    "    X_train, y_train = X[train_indices], y[train_indices]\n",
    "    X_test, y_test = X[test_indices], y[test_indices]\n",
    "    \n",
    "    return X_train, X_test, y_train, y_test\n"
   ]
  },
  {
   "cell_type": "code",
   "execution_count": 3,
   "metadata": {},
   "outputs": [],
   "source": [
    "def load_data(file_path):\n",
    "    # 读取数据\n",
    "    data = pd.read_csv(file_path, header=None)\n",
    "    # 将数据分为特征和标签\n",
    "    X = data.iloc[:, 1:].values.astype(float)\n",
    "    y = data.iloc[:, 0].values.astype(int)\n",
    "    X_train, X_test, y_train, y_test = stratified_shuffle_split(X, y, test_size=0.2, random_state=42)\n",
    "    return X_train, X_test, y_train, y_test\n",
    "\n",
    "X_train, X_test, y_train, y_test = load_data('wine.data')\n"
   ]
  },
  {
   "cell_type": "markdown",
   "metadata": {},
   "source": [
    "### 朴素贝叶斯分类器"
   ]
  },
  {
   "cell_type": "code",
   "execution_count": 4,
   "metadata": {},
   "outputs": [
    {
     "name": "stdout",
     "output_type": "stream",
     "text": [
      "Accuracy for class 1: 0.9167\n",
      "Accuracy for class 2: 1.0000\n",
      "Accuracy for class 3: 1.0000\n",
      "Average Accuracy: 0.9730\n"
     ]
    }
   ],
   "source": [
    "# 计算高斯分布的概率密度函数\n",
    "def gaussian_pdf(x, mean, std):\n",
    "    exponent = np.exp(-((x - mean) ** 2) / (2 * std ** 2))\n",
    "    return (1 / (np.sqrt(2 * np.pi) * std)) * exponent\n",
    "\n",
    "# 计算每个类别的先验概率\n",
    "unique, counts = np.unique(y_train, return_counts=True)\n",
    "priors = counts / len(y_train)\n",
    "\n",
    "# 计算每个特征在每个类别下的均值和标准差\n",
    "means = []\n",
    "stds = []\n",
    "for label in unique:\n",
    "    X_label = X_train[y_train == label]\n",
    "    means.append(np.mean(X_label, axis=0))\n",
    "    stds.append(np.std(X_label, axis=0))\n",
    "\n",
    "# 条件概率\n",
    "pre_score1 = []\n",
    "pre_score2 = []\n",
    "pre_score3 = []\n",
    "\n",
    "# 对于每个测试样本，计算其在每个类别下的条件概率\n",
    "y_pred = []\n",
    "for x in X_test:\n",
    "    posteriors = []\n",
    "    for i, label in enumerate(unique):\n",
    "        prior = priors[i]\n",
    "        likelihood = 1\n",
    "        for j, feature in enumerate(x):\n",
    "            mean = means[i][j]\n",
    "            std = stds[i][j]\n",
    "            likelihood *= gaussian_pdf(feature, mean, std)\n",
    "        posterior = prior * likelihood\n",
    "        posteriors.append(posterior)\n",
    "    y_pred.append(unique[np.argmax(posteriors)])\n",
    "    pre_score1.append(posteriors[0])\n",
    "    pre_score2.append(posteriors[1])\n",
    "    pre_score3.append(posteriors[2])\n",
    "\n",
    "# 输出每个类别的准确率\n",
    "accuracies = []\n",
    "for label in unique:\n",
    "    mask = (y_test == label)\n",
    "    y_pred_label = [y_pred[i] for i in range(len(mask)) if mask[i]]\n",
    "    y_test_label = [y_test[i] for i in range(len(mask)) if mask[i]]\n",
    "    y_test_label = np.array(y_test_label)\n",
    "    accuracy = (y_pred_label == y_test_label).mean()\n",
    "    accuracies.append(accuracy)\n",
    "\n",
    "# 每个类别的正确率\n",
    "for i, label in enumerate(unique):\n",
    "    print(f'Accuracy for class {label}: {accuracies[i]:.4f}')\n",
    "\n",
    "# 平均正确率\n",
    "accuracy = (y_pred == y_test).mean()\n",
    "print(f'Average Accuracy: {accuracy:.4f}')"
   ]
  },
  {
   "cell_type": "markdown",
   "metadata": {},
   "source": [
    "## 中级要求"
   ]
  },
  {
   "cell_type": "markdown",
   "metadata": {},
   "source": [
    "### 混淆矩阵"
   ]
  },
  {
   "cell_type": "code",
   "execution_count": 5,
   "metadata": {},
   "outputs": [],
   "source": [
    "def confusion_matrix(true_values, predicted_values):\n",
    "    # 获取类别数量\n",
    "    num_classes = max(max(true_values), max(predicted_values)) + 1\n",
    "\n",
    "    # 初始化混淆矩阵\n",
    "    matrix = [[0] * num_classes for _ in range(num_classes)]\n",
    "\n",
    "    # 填充混淆矩阵\n",
    "    for true, pred in zip(true_values, predicted_values):\n",
    "        matrix[true][pred] += 1\n",
    "\n",
    "    return matrix"
   ]
  },
  {
   "cell_type": "markdown",
   "metadata": {},
   "source": [
    "### 精度、召回率、F1-score"
   ]
  },
  {
   "cell_type": "code",
   "execution_count": 6,
   "metadata": {},
   "outputs": [
    {
     "name": "stdout",
     "output_type": "stream",
     "text": [
      "(3, 3)\n",
      "Confusion Matrix:\n",
      "[[11  1  0]\n",
      " [ 0 15  0]\n",
      " [ 0  0 10]]\n",
      "class 1: recall: 0.9167, precision: 1.0000, f1_score: 0.9565\n",
      "class 2: recall: 1.0000, precision: 0.9375, f1_score: 0.9677\n",
      "class 3: recall: 1.0000, precision: 1.0000, f1_score: 1.0000\n"
     ]
    }
   ],
   "source": [
    "cm = np.array(confusion_matrix(y_test, y_pred))\n",
    "# 由于数据的label是1-3，所以混淆矩阵算出来的是4*4的，需要去掉第一行和第一列\n",
    "cm = cm[1:, 1:]\n",
    "print(cm.shape)\n",
    "print('Confusion Matrix:')\n",
    "print(cm)\n",
    "\n",
    "# 计算精度、召回率、F值\n",
    "tp = np.diag(cm)\n",
    "fp = np.sum(cm, axis=0) - tp\n",
    "fn = np.sum(cm, axis=1) - tp\n",
    "\n",
    "precision = tp / (tp + fp)\n",
    "recall = tp / (tp + fn)\n",
    "f1_score = 2 * precision * recall / (precision + recall)\n",
    "\n",
    "for i in range(len(recall)):\n",
    "    print('class {}: recall: {:.4f}, precision: {:.4f}, f1_score: {:.4f}'.format(i+1, recall[i], precision[i], f1_score[i]))"
   ]
  },
  {
   "cell_type": "markdown",
   "metadata": {},
   "source": [
    "## 高级要求"
   ]
  },
  {
   "cell_type": "code",
   "execution_count": 7,
   "metadata": {},
   "outputs": [],
   "source": [
    "#绘制ROC曲线计算AUC值\n",
    "def draw_roc(pre_scores, test_label):\n",
    "    # 初始化假正例率和真正例率\n",
    "    fpr = []\n",
    "    tpr = []\n",
    "    # 初始化AUC值\n",
    "    auc = 0\n",
    "     \n",
    "    for i in np.argsort(pre_scores)[::-1]:\n",
    "        threshold = pre_scores[i]\n",
    "        if threshold == np.max(pre_scores):\n",
    "            fpr.append(0)\n",
    "            tpr.append(0)\n",
    "            continue\n",
    "        elif threshold == np.min(pre_scores):\n",
    "            fpr.append(1)\n",
    "            tpr.append(1)\n",
    "            continue\n",
    "        TP, FP, FN, TN = 0, 0, 0, 0\n",
    "        for j in np.argsort(pre_scores)[::-1]:\n",
    "            if pre_scores[j] >= threshold:\n",
    "                if y_test[j] == test_label:\n",
    "                    TP += 1\n",
    "                else:\n",
    "                    FP += 1\n",
    "            else:\n",
    "                if y_test[j] == test_label:\n",
    "                    FN += 1\n",
    "                else:\n",
    "                    TN += 1\n",
    "        fpr.append(FP / (FP + TN))\n",
    "        tpr.append(TP / (TP + FN))\n",
    "    \n",
    "    # 计算AUC值\n",
    "    for i in range(1, len(fpr)):\n",
    "        auc += 0.5 * (fpr[i] - fpr[i - 1]) * (tpr[i] + tpr[i - 1])\n",
    "        \n",
    "    plt.title(f'class{test_label} ROC curve')\n",
    "    plt.plot(fpr, tpr, label = 'ROC')\n",
    "    plt.legend()\n",
    "    plt.xlabel('False positive rate')\n",
    "    plt.ylabel('True positive rate')\n",
    "    plt.show()\n",
    "    return auc"
   ]
  },
  {
   "cell_type": "code",
   "execution_count": 8,
   "metadata": {},
   "outputs": [
    {
     "data": {
      "image/png": "[encoded data removed]",
      "text/plain": [
       "<Figure size 640x480 with 1 Axes>"
      ]
     },
     "metadata": {},
     "output_type": "display_data"
    },
    {
     "data": {
      "image/png": "[encoded data removed]",
      "text/plain": [
       "<Figure size 640x480 with 1 Axes>"
      ]
     },
     "metadata": {},
     "output_type": "display_data"
    },
    {
     "data": {
      "image/png": "[encoded data removed]",
      "text/plain": [
       "<Figure size 640x480 with 1 Axes>"
      ]
     },
     "metadata": {},
     "output_type": "display_data"
    },
    {
     "name": "stdout",
     "output_type": "stream",
     "text": [
      "AUC for class 1: 0.9800\n",
      "AUC for class 2: 0.9758\n",
      "AUC for class 3: 1.0000\n"
     ]
    }
   ],
   "source": [
    "Auc = []\n",
    "\n",
    "Auc.append(draw_roc(pre_score1, 1))\n",
    "Auc.append(draw_roc(pre_score2, 2))\n",
    "Auc.append(draw_roc(pre_score3, 3))\n",
    "\n",
    "for i in range(len(Auc)):\n",
    "    print(f'AUC for class {i+1}: {Auc[i]:.4f}')"
   ]
  },
  {
   "cell_type": "markdown",
   "metadata": {},
   "source": [
    "## 扩展要求"
   ]
  },
  {
   "cell_type": "markdown",
   "metadata": {},
   "source": [
    "\n",
    "#### ROC曲线的合理性：\n",
    "\n",
    "1. **可视化权衡关系：** ROC曲线直观地展示了在不同阈值下真正例率（TPR）和假正例率（FPR）之间的权衡关系。这对于理解模型在不同工作点的表现很有帮助。\n",
    "\n",
    "2. **不受类别不平衡的影响：** ROC曲线对于类别不平衡的问题更具有鲁棒性。在类别不平衡的情况下，精度等指标可能不是很敏感，而ROC曲线能够更全面地反映模型的性能。\n",
    "\n",
    "#### AUC值的合理性：\n",
    "\n",
    "1. **综合性能度量：** AUC值是ROC曲线下方的面积，代表了分类模型在所有可能阈值下的平均性能。这使得AUC成为一个综合性的性能度量，而不仅仅是在单一阈值下的性能。\n",
    "\n",
    "2. **不受类别分布影响：** AUC值对于类别分布的改变不敏感，因此在应对类别不平衡问题时更为可靠。\n",
    "\n",
    "### 综合考虑：\n",
    "\n",
    "1. **适用性：** ROC曲线和AUC值适用于二分类问题，但在多分类问题中，需要对其进行适当修改或使用其他评价指标。\n",
    "\n",
    "2. **权衡关系：** AUC值综合了不同阈值下的性能，但并不提供具体的阈值选择信息。所以需要根据具体任务和业务需求权衡模型对于不同类型错误的敏感性。\n",
    "\n",
    "3. **与其他指标结合：** ROC曲线和AUC值通常与其他指标（如精确度、查准率等）一起使用，以全面评估模型性能。\n"
   ]
  }
 ],
 "metadata": {
  "kernelspec": {
   "display_name": "Python 3",
   "language": "python",
   "name": "python3"
  },
  "language_info": {
   "codemirror_mode": {
    "name": "ipython",
    "version": 3
   },
   "file_extension": ".py",
   "mimetype": "text/x-python",
   "name": "python",
   "nbconvert_exporter": "python",
   "pygments_lexer": "ipython3",
   "version": "3.10.7"
  }
 },
 "nbformat": 4,
 "nbformat_minor": 2
}
