{
 "cells": [
  {
   "cell_type": "markdown",
   "metadata": {},
   "source": [
    "# Lab6 决策树分类器\n",
    "\n",
    "- 姓名：于洋淼\n",
    "- 学号：2113644\n",
    "- 专业：物联网工程"
   ]
  },
  {
   "cell_type": "code",
   "execution_count": 1,
   "metadata": {},
   "outputs": [],
   "source": [
    "import numpy as np \n",
    "import pandas as pd\n",
    "import math\n",
    "import copy\n",
    "from collections import Counter"
   ]
  },
  {
   "cell_type": "markdown",
   "metadata": {},
   "source": [
    "### 导入数据"
   ]
  },
  {
   "cell_type": "code",
   "execution_count": 2,
   "metadata": {},
   "outputs": [],
   "source": [
    "def read_data(name):\n",
    "    df = pd.read_csv(name, encoding = 'gb2312')\n",
    "    temp = np.array(df).tolist()\n",
    "    for i in temp: # 第一列是编号，不需要\n",
    "        i.pop(0)\n",
    "    return temp\n",
    "\n",
    "train1 = read_data(\"Watermelon-train1.csv\")\n",
    "train2 = read_data(\"Watermelon-train2.csv\")\n",
    "test1 = read_data(\"Watermelon-test1.csv\")\n",
    "test2 = read_data(\"Watermelon-test2.csv\")"
   ]
  },
  {
   "cell_type": "markdown",
   "metadata": {},
   "source": [
    "# 基本要求\n",
    "\n",
    "## 构建ID3决策树"
   ]
  },
  {
   "cell_type": "markdown",
   "metadata": {},
   "source": [
    "### 计算信息熵"
   ]
  },
  {
   "cell_type": "code",
   "execution_count": 3,
   "metadata": {},
   "outputs": [],
   "source": [
    "# 计算信息熵\n",
    "def get_entropy(data):\n",
    "    # 使用 Counter 统计数据集中每个类别的出现次数\n",
    "    class_counts = Counter(item[-1] for item in data)\n",
    "\n",
    "    # 获取数据集总样本数\n",
    "    total_instances = len(data)\n",
    "\n",
    "    # 计算信息熵\n",
    "    entropy = -sum((count/total_instances) * math.log2(count/total_instances) for count in class_counts.values())\n",
    "\n",
    "    # 返回信息熵和每个类别的频数字典\n",
    "    return entropy, dict(class_counts)\n",
    "\n",
    "\n",
    "# 将数据按照某一种类的属性进行分类，并将该行属性删除\n",
    "def split(data, index, kind):\n",
    "    ls = [temp[0: index] + temp[index + 1:] for temp in data if temp[index] == kind]\n",
    "    return ls\n"
   ]
  },
  {
   "cell_type": "markdown",
   "metadata": {},
   "source": [
    "### 计算信息增益，选取最佳特征"
   ]
  },
  {
   "cell_type": "code",
   "execution_count": 4,
   "metadata": {},
   "outputs": [],
   "source": [
    "def get_id3_best_feature(data):\n",
    "    base_entropy, _ = get_entropy(data)  # 原始的信息熵\n",
    "    best_info_gain = 0\n",
    "    best_index = -1\n",
    "\n",
    "    for i in range(len(data[0]) - 1):\n",
    "        # 抽取该列数据的所有信息\n",
    "        feature_values = [index[i] for index in data]\n",
    "        unique_values = set(feature_values)\n",
    "\n",
    "        # 计算该列的信息增益\n",
    "        temp_entropy = 0\n",
    "        for value in unique_values:\n",
    "            subset = split(data, i, value)\n",
    "            probability = len(subset) / float(len(data))\n",
    "            entropy, _ = get_entropy(subset)\n",
    "            temp_entropy += probability * entropy\n",
    "\n",
    "        info_gain = base_entropy - temp_entropy\n",
    "\n",
    "        # 根据信息增益挑选\n",
    "        if info_gain > best_info_gain:\n",
    "            best_info_gain = info_gain\n",
    "            best_index = i\n",
    "\n",
    "    # 返回信息增益最大的特征\n",
    "    return best_index\n"
   ]
  },
  {
   "cell_type": "markdown",
   "metadata": {},
   "source": [
    "### 构建ID3决策树\n"
   ]
  },
  {
   "cell_type": "code",
   "execution_count": 5,
   "metadata": {},
   "outputs": [],
   "source": [
    "def get_id3(data, labels):\n",
    "    # 获取数据集中所有样本的类别列表\n",
    "    type_list = [index[-1] for index in data]  \n",
    "    # 计算数据集的信息熵和各个类别的数量\n",
    "    _, type_count = get_entropy(data)  \n",
    "\n",
    "    # 如果数据集中只有一种类别，则直接返回该类别\n",
    "    if len(type_count) == 1: \n",
    "        return type_list[0]\n",
    "\n",
    "    # 获取最佳划分特征的索引\n",
    "    best_index = get_id3_best_feature(data) \n",
    "    best_label = labels[best_index]\n",
    "    # 创建决策树的根节点\n",
    "    tree = {best_label: {}}\n",
    "\n",
    "    # 移除已经使用过的特征标签\n",
    "    remaining_labels = labels[:best_index] + labels[best_index + 1:]\n",
    "\n",
    "    # 获取最佳划分特征的所有取值\n",
    "    feature_values = [example[best_index] for example in data]\n",
    "    unique_values = set(feature_values) \n",
    "    \n",
    "    # 遍历最佳划分特征的所有取值，递归构建决策树\n",
    "    for value in unique_values:\n",
    "        remaining_labels_copy = remaining_labels[:]\n",
    "        # 递归调用get_id3函数构建子树\n",
    "        tree[best_label][value] = get_id3(split(data, best_index, value), remaining_labels_copy)\n",
    "\n",
    "    return tree\n"
   ]
  },
  {
   "cell_type": "markdown",
   "metadata": {},
   "source": [
    "### 对测试集进行预测"
   ]
  },
  {
   "cell_type": "code",
   "execution_count": 6,
   "metadata": {},
   "outputs": [],
   "source": [
    "def id3_predict(testdata, tree, labels):\n",
    "    # 获取决策树的根节点特征\n",
    "    firstStr = list(tree.keys())[0]\n",
    "    # 获取根节点特征对应的子树\n",
    "    secondDict = tree[firstStr]\n",
    "    # 获取根节点特征在特征标签中的索引\n",
    "    featIndex = labels.index(firstStr)\n",
    "    # 初始化结果变量为空字符串\n",
    "    result = ''\n",
    "    \n",
    "    # 遍历子树的所有分支\n",
    "    for key in secondDict: \n",
    "        # 判断测试数据在根节点特征的取值是否与当前分支相符\n",
    "        if testdata[featIndex] == key:\n",
    "            # 判断当前分支是否为叶子节点\n",
    "            if isinstance(secondDict[key], dict):  # 该分支不是叶子节点，递归\n",
    "                # 递归调用，继续在子树中查找\n",
    "                result = id3_predict(testdata, secondDict[key], labels)\n",
    "            else:\n",
    "                # 当前分支是叶子节点，直接获取预测结果\n",
    "                result = secondDict[key]\n",
    "    # 返回最终的预测结果\n",
    "    return result\n",
    "\n",
    "# 计算准确率\n",
    "def calculate_accuracy(actual, predicted):\n",
    "    correct = 0\n",
    "    for i in range(len(actual)):\n",
    "        if actual[i][-1] == predicted[i]:\n",
    "            correct += 1\n",
    "    accuracy = correct / len(actual)\n",
    "    return accuracy"
   ]
  },
  {
   "cell_type": "code",
   "execution_count": 7,
   "metadata": {},
   "outputs": [
    {
     "name": "stdout",
     "output_type": "stream",
     "text": [
      "ID3 Accuracy on test1:  0.7\n"
     ]
    }
   ],
   "source": [
    "labels1 = ['色泽', '根蒂', '敲声', '纹理', '好瓜']\n",
    "result1 = []\n",
    "id3_tree = get_id3(train1, labels1)\n",
    "# print(id3_tree)\n",
    "for index in test1:\n",
    "    result1.append(id3_predict(index, id3_tree, labels1))\n",
    "\n",
    "accuracy = calculate_accuracy(test1, result1)\n",
    "print(\"ID3 Accuracy on test1: \", accuracy)"
   ]
  },
  {
   "cell_type": "markdown",
   "metadata": {},
   "source": [
    "# 中级要求\n",
    "\n",
    "## 构建C4.5决策树"
   ]
  },
  {
   "cell_type": "markdown",
   "metadata": {},
   "source": [
    "### 划分数据集"
   ]
  },
  {
   "cell_type": "code",
   "execution_count": 8,
   "metadata": {},
   "outputs": [],
   "source": [
    "def split_data(data, index, kind, method):\n",
    "    if method == 0:\n",
    "        # 如果方法为0，将数据集中属性值小于等于kind的样本划分到左子集\n",
    "        return [temp[:index] + temp[index + 1:] for temp in data if temp[index] <= kind]\n",
    "    elif method == 1:\n",
    "        # 如果方法为1，将数据集中属性值大于kind的样本划分到右子集\n",
    "        return [temp[:index] + temp[index + 1:] for temp in data if temp[index] > kind]"
   ]
  },
  {
   "cell_type": "markdown",
   "metadata": {},
   "source": [
    "### 选取最佳特征"
   ]
  },
  {
   "cell_type": "code",
   "execution_count": 9,
   "metadata": {},
   "outputs": [],
   "source": [
    "def get_best_feature_c45(data):\n",
    "    base, _ = get_entropy(data)  # 原始信息熵\n",
    "    info = []\n",
    "\n",
    "    for j in range(len(data[0]) - 1):\n",
    "        dic = {}\n",
    "        for i in data:\n",
    "            current = i[j]  # 提取结果\n",
    "            if current not in dic.keys():\n",
    "                dic[current] = 1  # 创建一个新的类别\n",
    "            else:\n",
    "                dic[current] += 1  # 原有类别计数加1\n",
    "\n",
    "        result = 0\n",
    "        for key in dic:\n",
    "            prob = float(dic[key]) / len(data)\n",
    "            result -= prob * math.log(prob, 2)\n",
    "\n",
    "        info.append(result)\n",
    "\n",
    "    best = 0\n",
    "    best_index = -1\n",
    "    best_part_value = None  # 如果是离散值，使用该值进行分割\n",
    "\n",
    "    for i in range(len(data[0]) - 1):\n",
    "        # 提取该列数据的所有信息\n",
    "        ls = [index[i] for index in data]\n",
    "        feature_set = set(ls)\n",
    "\n",
    "        temp = 0.0\n",
    "        if type(ls[0]) == type(\"a\"):  # 判断是否为离散值\n",
    "            for value in feature_set:\n",
    "                datatemp = split(data, i, value)\n",
    "                prob = len(datatemp) / float(len(data))\n",
    "                t, _ = get_entropy(datatemp)\n",
    "                temp += prob * t\n",
    "        else:\n",
    "            ls.sort()\n",
    "            min_entropy = float(\"inf\")\n",
    "\n",
    "            for j in range(len(ls) - 1):\n",
    "                part = (ls[j + 1] + ls[j]) / 2  # 计算划分点\n",
    "                left = split_data(data, i, part, 0)\n",
    "                right = split_data(data, i, part, 1)\n",
    "\n",
    "                temp1, _ = get_entropy(left)\n",
    "                temp2, _ = get_entropy(right)\n",
    "                temp = len(left) / len(data) * temp1 + len(right) / len(data) * temp2\n",
    "\n",
    "                if temp < min_entropy:\n",
    "                    min_entropy = temp\n",
    "                    best_part_value = part\n",
    "\n",
    "            temp = min_entropy\n",
    "\n",
    "        info_gain = base - temp\n",
    "\n",
    "        # 根据信息增益挑选\n",
    "        if info[i] != 0:\n",
    "            if info_gain / info[i] >= best:\n",
    "                best = info_gain / info[i]\n",
    "                best_index = i\n",
    "\n",
    "    return best_index, best_part_value\n"
   ]
  },
  {
   "cell_type": "markdown",
   "metadata": {},
   "source": [
    "### 构建C4.5决策树"
   ]
  },
  {
   "cell_type": "code",
   "execution_count": 10,
   "metadata": {},
   "outputs": [],
   "source": [
    "def get_c45(data, labels):\n",
    "    # 获取数据集中最后一列（类别列）的值列表\n",
    "    typelist = [index[-1] for index in data]\n",
    "    \n",
    "    # 计算数据集各个类别的数量\n",
    "    _, typecount = get_entropy(data)\n",
    "    \n",
    "    # 如果只有一个类别，直接返回该类别\n",
    "    if typecount == len(typelist):\n",
    "        return typelist[0]\n",
    "    \n",
    "    # 获取最优划分属性的索引和划分点\n",
    "    best_index, part = get_best_feature_c45(data)\n",
    "    \n",
    "    # 如果找不到最优属性，返回默认值\n",
    "    if best_index == -1:\n",
    "        return \"是\"\n",
    "    \n",
    "    # 判断最优属性是否为离散值\n",
    "    if isinstance(data[0][best_index], str):\n",
    "        # 离散值情况下的处理\n",
    "        bestlabel = labels[best_index]\n",
    "        Tree = {bestlabel: {}}\n",
    "        temp = copy.copy(labels)\n",
    "        feature = [example[best_index] for example in data]\n",
    "        # 已经选择的特征不再参与分类，将该类别删除\n",
    "        del temp[best_index]\n",
    "        # 该属性所有可能取值\n",
    "        unique_values = set(feature)\n",
    "        for value in unique_values:\n",
    "            # 拷贝temp，防止递归影响上层\n",
    "            s = temp[:]\n",
    "            # 递归构建子树\n",
    "            Tree[bestlabel][value] = get_c45(split(data, best_index, value), s)\n",
    "    else:\n",
    "        # 连续值情况下的处理\n",
    "        bestlabel = labels[best_index] + \"<\" + str(part)\n",
    "        Tree = {bestlabel: {}}\n",
    "        temp = labels[:]\n",
    "        # 已经选择的特征不再参与分类，将该类别删除\n",
    "        del temp[best_index]\n",
    "        # 根据划分点划分数据集\n",
    "        left_data = split_data(data, best_index, part, 0)\n",
    "        right_data = split_data(data, best_index, part, 1)\n",
    "        # 递归构建左右子树\n",
    "        Tree[bestlabel][\"是\"] = get_c45(left_data, temp)\n",
    "        Tree[bestlabel][\"否\"] = get_c45(right_data, temp)\n",
    "    \n",
    "    return Tree"
   ]
  },
  {
   "cell_type": "markdown",
   "metadata": {},
   "source": [
    "### 对测试集进行预测"
   ]
  },
  {
   "cell_type": "code",
   "execution_count": 11,
   "metadata": {},
   "outputs": [],
   "source": [
    "def c45_predict(data, tree, labels):\n",
    "    # 获取根节点信息\n",
    "    root_attribute = list(tree.keys())[0]\n",
    "    first_label = root_attribute.split('<')[0].strip()  # 提取属性名称\n",
    "\n",
    "    # 获取树的分支\n",
    "    branch_dict = tree[root_attribute]\n",
    "    feat_index = labels.index(first_label)  # 获取属性在数据中的索引\n",
    "\n",
    "    for key, value in branch_dict.items():\n",
    "        # 处理离散型特征\n",
    "        if isinstance(data[feat_index], str):\n",
    "            if data[feat_index] == key:\n",
    "                if isinstance(value, dict):  # 如果不是叶节点则递归\n",
    "                    return c45_predict(data, value, labels)\n",
    "                else:  # 如果是叶节点则返回结果\n",
    "                    return value\n",
    "        else:\n",
    "            # 处理连续型特征\n",
    "            split_value = float(root_attribute.split('<')[1])  # 提取划分值\n",
    "            branch = '是' if data[feat_index] <= split_value else '否'\n",
    "\n",
    "            if type(branch_dict[branch]).__name__ == 'dict':  # 不是叶节点则递归\n",
    "                return c45_predict(data, branch_dict[branch], labels)\n",
    "            else:  # 是叶节点返回结果\n",
    "                return branch_dict[branch]\n"
   ]
  },
  {
   "cell_type": "code",
   "execution_count": 12,
   "metadata": {},
   "outputs": [
    {
     "name": "stdout",
     "output_type": "stream",
     "text": [
      "{'纹理': {'稍糊': {'敲声': {'沉闷': {'密度<0.6615': {'是': '是', '否': {'根蒂': {'蜷缩': '是', '稍蜷': '是'}}}}, '浊响': {'密度<0.56': {'是': '是', '否': '是'}}}}, '模糊': {'密度<0.29400000000000004': {'是': '是', '否': '是'}}, '清晰': {'根蒂': {'蜷缩': {'密度<0.5820000000000001': {'是': '是', '否': {'敲声': {'沉闷': {'色泽': {'青绿': '是', '乌黑': '是'}}, '浊响': {'色泽': {'青绿': '是', '乌黑': '是'}}}}}}, '稍蜷': {'密度<0.3815': {'是': '是', '否': {'色泽': {'青绿': '是', '乌黑': '是'}}}}, '硬挺': '是'}}}}\n",
      "C4.5 Accuracy on test2:  0.6\n"
     ]
    }
   ],
   "source": [
    "labels2 = [\"色泽\", \"根蒂\", \"敲声\", \"纹理\", \"密度\", \"好瓜\"]\n",
    "result2 = []\n",
    "c45_tree = get_c45(train2, labels2)\n",
    "print(c45_tree)\n",
    "for index in test2:\n",
    "    result2.append(c45_predict(index, c45_tree, labels2))\n",
    "\n",
    "accuracy = calculate_accuracy(test2, result2)\n",
    "print(\"C4.5 Accuracy on test2: \", accuracy)"
   ]
  },
  {
   "cell_type": "markdown",
   "metadata": {},
   "source": [
    "# 高级要求\n",
    "\n",
    "## 决策树预剪枝\n",
    "\n",
    "以最大树深为指标，对决策树进行预剪枝\n",
    "也尝试过使用剪枝后的准确率作为指标对决策树进行后剪枝，但是在两棵树上都没有什么提升 ~~(也可能是我写的有问题)~~"
   ]
  },
  {
   "cell_type": "code",
   "execution_count": 13,
   "metadata": {},
   "outputs": [],
   "source": [
    "def get_id3_pre(data, labels, max_depth=None):\n",
    "    # 获取数据集中所有样本的类别列表\n",
    "    type_list = [index[-1] for index in data]  \n",
    "    # 计算数据集的信息熵和各个类别的数量\n",
    "    _, type_count = get_entropy(data)  \n",
    "\n",
    "    # 如果数据集中只有一种类别，则直接返回该类别\n",
    "    if len(type_count) == 1: \n",
    "        return type_list[0]\n",
    "    \n",
    "    # 如果达到最大深度，直接返回出现最频繁的标签\n",
    "    if max_depth is not None and max_depth == 0:\n",
    "        return max(type_list, key=type_list.count)\n",
    "\n",
    "    # 获取最佳划分特征的索引\n",
    "    best_index = get_id3_best_feature(data) \n",
    "    best_label = labels[best_index]\n",
    "    # 创建决策树的根节点\n",
    "    tree = {best_label: {}}\n",
    "\n",
    "    # 移除已经使用过的特征标签\n",
    "    remaining_labels = labels[:best_index] + labels[best_index + 1:]\n",
    "\n",
    "    # 获取最佳划分特征的所有取值\n",
    "    feature_values = [example[best_index] for example in data]\n",
    "    unique_values = set(feature_values) \n",
    "    \n",
    "    # 遍历最佳划分特征的所有取值，递归构建决策树\n",
    "    for value in unique_values:\n",
    "        remaining_labels_copy = remaining_labels[:]\n",
    "        # 递归调用get_id3函数构建子树\n",
    "        tree[best_label][value] = get_id3_pre(\n",
    "            split(data, best_index, value), \n",
    "            remaining_labels_copy, \n",
    "            max_depth = max_depth - 1 if max_depth is not None else None\n",
    "        )\n",
    "\n",
    "    return tree"
   ]
  },
  {
   "cell_type": "code",
   "execution_count": 14,
   "metadata": {},
   "outputs": [
    {
     "name": "stdout",
     "output_type": "stream",
     "text": [
      "{'纹理': {'稍糊': '否', '模糊': '否', '清晰': '是'}}\n",
      "Max Deep = 1, Max ID3 Accuracy on test1 = 0.8\n"
     ]
    }
   ],
   "source": [
    "labels1 = ['色泽', '根蒂', '敲声', '纹理', '好瓜']\n",
    "\n",
    "max_deep = 0\n",
    "max_acc = 0\n",
    "\n",
    "for i in range(1, 10):\n",
    "    result1 = []\n",
    "    id3_tree = get_id3_pre(train1, labels1, i)\n",
    "    for index in test1:\n",
    "        result1.append(id3_predict(index, id3_tree, labels1))\n",
    "\n",
    "    accuracy = calculate_accuracy(test1, result1)\n",
    "    if accuracy > max_acc:\n",
    "        max_acc = accuracy\n",
    "        max_deep = i\n",
    "\n",
    "result1 = []\n",
    "id3_tree = get_id3_pre(train1, labels1, max_deep)\n",
    "print(id3_tree)\n",
    "for index in test1:\n",
    "    result1.append(id3_predict(index, id3_tree, labels1))\n",
    "\n",
    "accuracy = calculate_accuracy(test1, result1)\n",
    "print(f\"Max Deep = {max_deep}, Max ID3 Accuracy on test1 = {accuracy}\")"
   ]
  },
  {
   "cell_type": "markdown",
   "metadata": {},
   "source": [
    "对于test1数据集，最大树深为1时，准确率最高，为0.8"
   ]
  },
  {
   "cell_type": "code",
   "execution_count": 15,
   "metadata": {},
   "outputs": [],
   "source": [
    "def get_c45_pre(data, labels, max_depth=None):\n",
    "    # 获取数据集中最后一列（类别列）的值列表\n",
    "    typelist = [index[-1] for index in data]\n",
    "    \n",
    "    # 计算数据集各个类别的数量\n",
    "    _, typecount = get_entropy(data)\n",
    "    \n",
    "    # 如果只有一个类别，直接返回该类别\n",
    "    if typecount == len(typelist):\n",
    "        return typelist[0]\n",
    "    \n",
    "    # 如果达到最大深度，直接返回出现最频繁的标签\n",
    "    if max_depth is not None and max_depth == 0:\n",
    "        return max(typelist, key=typelist.count)\n",
    "    \n",
    "    # 获取最优划分属性的索引和划分点\n",
    "    best_index, part = get_best_feature_c45(data)\n",
    "    \n",
    "    # 如果找不到最优属性，返回默认值\n",
    "    if best_index == -1:\n",
    "        return \"是\"\n",
    "    \n",
    "    # 判断最优属性是否为离散值\n",
    "    if isinstance(data[0][best_index], str):\n",
    "        # 离散值情况下的处理\n",
    "        bestlabel = labels[best_index]\n",
    "        Tree = {bestlabel: {}}\n",
    "        temp = copy.copy(labels)\n",
    "        feature = [example[best_index] for example in data]\n",
    "        # 已经选择的特征不再参与分类，将该类别删除\n",
    "        del temp[best_index]\n",
    "        # 该属性所有可能取值\n",
    "        unique_values = set(feature)\n",
    "        for value in unique_values:\n",
    "            # 拷贝temp，防止递归影响上层\n",
    "            s = temp[:]\n",
    "            # 递归构建子树\n",
    "            Tree[bestlabel][value] = get_c45_pre(split(data, best_index, value), s, max_depth=max_depth - 1 if max_depth is not None else None)\n",
    "    else:\n",
    "        # 连续值情况下的处理\n",
    "        bestlabel = labels[best_index] + \"<\" + str(part)\n",
    "        Tree = {bestlabel: {}}\n",
    "        temp = labels[:]\n",
    "        # 已经选择的特征不再参与分类，将该类别删除\n",
    "        del temp[best_index]\n",
    "        # 根据划分点划分数据集\n",
    "        left_data = split_data(data, best_index, part, 0)\n",
    "        right_data = split_data(data, best_index, part, 1)\n",
    "        # 递归构建左右子树\n",
    "        Tree[bestlabel][\"是\"] = get_c45_pre(left_data, temp, max_depth=max_depth - 1 if max_depth is not None else None)\n",
    "        Tree[bestlabel][\"否\"] = get_c45_pre(right_data, temp, max_depth=max_depth - 1 if max_depth is not None else None)\n",
    "    \n",
    "    return Tree"
   ]
  },
  {
   "cell_type": "code",
   "execution_count": 16,
   "metadata": {},
   "outputs": [
    {
     "name": "stdout",
     "output_type": "stream",
     "text": [
      "{'纹理': {'稍糊': {'敲声': {'沉闷': {'密度<0.6615': {'是': '是', '否': {'根蒂': {'蜷缩': '是', '稍蜷': '是'}}}}, '浊响': {'密度<0.56': {'是': '是', '否': '是'}}}}, '模糊': {'密度<0.29400000000000004': {'是': '是', '否': '是'}}, '清晰': {'根蒂': {'蜷缩': {'密度<0.5820000000000001': {'是': '是', '否': {'敲声': {'沉闷': {'色泽': {'青绿': '是', '乌黑': '是'}}, '浊响': {'色泽': {'青绿': '是', '乌黑': '是'}}}}}}, '稍蜷': {'密度<0.3815': {'是': '是', '否': {'色泽': {'青绿': '是', '乌黑': '是'}}}}, '硬挺': '是'}}}}\n",
      "Max Deep = 2, Max C4.5 Accuracy on test2 = 0.6\n"
     ]
    }
   ],
   "source": [
    "labels2 = [\"色泽\", \"根蒂\", \"敲声\", \"纹理\", \"密度\", \"好瓜\"]\n",
    "\n",
    "max_deep = 0\n",
    "max_acc = 0\n",
    "\n",
    "for i in range(1, 20):\n",
    "    result2 = []\n",
    "    c45_tree = get_c45_pre(train2, labels2, i)\n",
    "    for index in test2:\n",
    "        result2.append(c45_predict(index, c45_tree, labels2))\n",
    "\n",
    "    accuracy = calculate_accuracy(test2, result2)\n",
    "    if accuracy > max_acc:\n",
    "        max_acc = accuracy\n",
    "        max_deep = i\n",
    "\n",
    "result2 = []\n",
    "c45_tree = get_c45_pre(train2, labels2, i)\n",
    "for index in test2:\n",
    "    result2.append(c45_predict(index, c45_tree, labels2))\n",
    "\n",
    "accuracy = calculate_accuracy(test2, result2)\n",
    "print(c45_tree)\n",
    "print(f\"Max Deep = {max_deep}, Max C4.5 Accuracy on test2 = {accuracy}\")"
   ]
  },
  {
   "cell_type": "markdown",
   "metadata": {},
   "source": [
    "对于test2数据集，最大树深为2时，准确率最高，为0.6(树深增加也还是这个值)"
   ]
  }
 ],
 "metadata": {
  "kernelspec": {
   "display_name": "Python 3",
   "language": "python",
   "name": "python3"
  },
  "language_info": {
   "codemirror_mode": {
    "name": "ipython",
    "version": 3
   },
   "file_extension": ".py",
   "mimetype": "text/x-python",
   "name": "python",
   "nbconvert_exporter": "python",
   "pygments_lexer": "ipython3",
   "version": "3.10.7"
  }
 },
 "nbformat": 4,
 "nbformat_minor": 2
}
